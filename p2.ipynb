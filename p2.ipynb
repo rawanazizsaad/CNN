{
 "cells": [
  {
   "cell_type": "code",
   "execution_count": 2,
   "metadata": {},
   "outputs": [],
   "source": [
    "import tensorflow as tf\n",
    "import keras\n",
    "from keras.layers import Conv2D,MaxPooling2D,Dense,Dropout,Flatten\n",
    "import numpy as np \n",
    "import matplotlib.pyplot as plt\n",
    "import pandas as pd\n",
    "from keras.utils import to_categorical\n",
    "import os\n",
    "from tqdm import tqdm\n",
    "import cv2\n",
    "import random\n",
    "import pickle as pk\n",
    "from sklearn.model_selection import train_test_split\n",
    "import numpy as np \n",
    "import pandas as pd \n",
    "from keras.models import load_model\n",
    "from keras.layers import BatchNormalization\n",
    "\n",
    "from sklearn.model_selection import GridSearchCV\n",
    "from keras.wrappers.scikit_learn import KerasClassifier\n",
    "from keras.callbacks import EarlyStopping\n",
    "from keras import regularizers\n",
    "\n",
    "# from keras import layers"
   ]
  },
  {
   "cell_type": "code",
   "execution_count": 3,
   "metadata": {},
   "outputs": [],
   "source": [
    "imges_num=20000\n",
    "class_num=10\n",
    "FAST_RUN = False\n",
    "IMAGE_WIDTH=220\n",
    "IMAGE_HEIGHT=220\n",
    "IMAGE_SIZE=(IMAGE_WIDTH, IMAGE_HEIGHT)\n",
    "IMAGE_CHANNELS=3"
   ]
  },
  {
   "cell_type": "code",
   "execution_count": 4,
   "metadata": {},
   "outputs": [
    {
     "data": {
      "text/plain": [
       "['Baked Potato',\n",
       " 'Burger',\n",
       " 'Crispy Chicken',\n",
       " 'Donut',\n",
       " 'Fries',\n",
       " 'Hot Dog',\n",
       " 'Pizza',\n",
       " 'Sandwich',\n",
       " 'Taco',\n",
       " 'Taquito']"
      ]
     },
     "execution_count": 4,
     "metadata": {},
     "output_type": "execute_result"
    }
   ],
   "source": [
    "trainingPath=\"Fast Food Classification V2\\Train\"\n",
    "categories=os.listdir(trainingPath)\n",
    "# print(categories)\n",
    "categories"
   ]
  },
  {
   "cell_type": "code",
   "execution_count": 5,
   "metadata": {},
   "outputs": [
    {
     "data": {
      "text/plain": [
       "{0: 'Baked Potato', 1: 'Burger', 2: 'Crispy Chicken', 3: 'Donut'}"
      ]
     },
     "execution_count": 5,
     "metadata": {},
     "output_type": "execute_result"
    }
   ],
   "source": [
    "classnames={}\n",
    "for i in range(4):\n",
    "  classnames[i]=categories[i]\n",
    "classnames"
   ]
  },
  {
   "cell_type": "code",
   "execution_count": 6,
   "metadata": {},
   "outputs": [
    {
     "name": "stderr",
     "output_type": "stream",
     "text": [
      "100%|██████████| 1500/1500 [00:25<00:00, 59.69it/s] \n",
      "100%|██████████| 1500/1500 [00:17<00:00, 83.83it/s]\n",
      "100%|██████████| 1500/1500 [00:28<00:00, 53.01it/s]\n",
      "100%|██████████| 1500/1500 [00:33<00:00, 45.18it/s]\n",
      "100%|██████████| 1500/1500 [00:29<00:00, 50.96it/s]\n",
      "100%|██████████| 1500/1500 [00:44<00:00, 33.67it/s]\n",
      "100%|██████████| 1500/1500 [00:27<00:00, 55.16it/s]\n",
      "100%|██████████| 1500/1500 [00:27<00:00, 55.50it/s]\n",
      "100%|██████████| 1500/1500 [00:26<00:00, 56.96it/s]\n",
      "100%|██████████| 1500/1500 [00:27<00:00, 54.51it/s]\n"
     ]
    }
   ],
   "source": [
    "training =[]\n",
    "x=0\n",
    "\n",
    "for category in categories:\n",
    "    folder=os.path.join(trainingPath,category)\n",
    "    # print(folder)\n",
    "    x2=0 \n",
    "    for file in tqdm(os.listdir(folder)):\n",
    "        # print(file)\n",
    "        try:\n",
    "            img=cv2.imread(os.path.join(folder,file))\n",
    "            img=cv2.cvtColor(img,cv2.COLOR_BGR2RGB)\n",
    "            img=cv2.resize(img,IMAGE_SIZE)# size image for CNN input\n",
    "            classNum=categories.index(category) #detrmine class\n",
    "            training.append([img,classNum])\n",
    "            # plt.imshow(img)\n",
    "            # plt.show()\n",
    "        except Exception as e:\n",
    "            pass\n",
    "        \n",
    "        if x2>imges_num:\n",
    "            break\n",
    "        x2+=1\n",
    "    \n",
    "    if x>=class_num-1:    \n",
    "        break\n",
    "    x+=1\n",
    "    # print(x)"
   ]
  },
  {
   "cell_type": "code",
   "execution_count": 7,
   "metadata": {},
   "outputs": [
    {
     "data": {
      "text/plain": [
       "15000"
      ]
     },
     "execution_count": 7,
     "metadata": {},
     "output_type": "execute_result"
    }
   ],
   "source": [
    "len(training)"
   ]
  },
  {
   "cell_type": "code",
   "execution_count": 8,
   "metadata": {},
   "outputs": [
    {
     "name": "stdout",
     "output_type": "stream",
     "text": [
      "5\n",
      "9\n",
      "6\n",
      "7\n",
      "3\n",
      "3\n",
      "0\n",
      "2\n",
      "9\n",
      "1\n"
     ]
    }
   ],
   "source": [
    "training[0]\n",
    "random.shuffle(training)\n",
    "for trainSample in training[:10]:\n",
    "    print(trainSample[1])\n",
    "    \n",
    "# image_classes = [item[1] for item in training]\n",
    "# image_classes"
   ]
  },
  {
   "cell_type": "code",
   "execution_count": 9,
   "metadata": {},
   "outputs": [],
   "source": [
    "x_train_data=[]\n",
    "y_train_data=[]\n",
    "for feature,label in training:\n",
    "    x_train_data.append(feature)\n",
    "    y_train_data.append(label)"
   ]
  },
  {
   "cell_type": "code",
   "execution_count": 10,
   "metadata": {},
   "outputs": [],
   "source": [
    "x_train_data=np.array(x_train_data)\n",
    "y_train_data=np.array(y_train_data)"
   ]
  },
  {
   "cell_type": "code",
   "execution_count": 11,
   "metadata": {},
   "outputs": [
    {
     "name": "stdout",
     "output_type": "stream",
     "text": [
      "(15000, 220, 220, 3)\n",
      "(15000,)\n"
     ]
    }
   ],
   "source": [
    "x_train_data=x_train_data.reshape(-1,IMAGE_HEIGHT,IMAGE_WIDTH,IMAGE_CHANNELS)\n",
    "# print(x_train_data[0])\n",
    "print(x_train_data.shape)\n",
    "# print(y_train_data[:10])\n",
    "print(y_train_data.shape)"
   ]
  },
  {
   "attachments": {},
   "cell_type": "markdown",
   "metadata": {},
   "source": [
    "Validation"
   ]
  },
  {
   "cell_type": "code",
   "execution_count": 13,
   "metadata": {},
   "outputs": [
    {
     "data": {
      "text/plain": [
       "['Baked Potato',\n",
       " 'Burger',\n",
       " 'Crispy Chicken',\n",
       " 'Donut',\n",
       " 'Fries',\n",
       " 'Hot Dog',\n",
       " 'Pizza',\n",
       " 'Sandwich',\n",
       " 'Taco',\n",
       " 'Taquito']"
      ]
     },
     "execution_count": 13,
     "metadata": {},
     "output_type": "execute_result"
    }
   ],
   "source": [
    "validationPath=\"Fast Food Classification V2\\Valid\"\n",
    "categories=os.listdir(trainingPath)\n",
    "# print(categories)\n",
    "categories"
   ]
  },
  {
   "cell_type": "code",
   "execution_count": 14,
   "metadata": {},
   "outputs": [
    {
     "name": "stderr",
     "output_type": "stream",
     "text": [
      "100%|██████████| 400/400 [00:02<00:00, 136.30it/s]\n",
      "100%|██████████| 300/300 [00:01<00:00, 153.98it/s]\n",
      "100%|██████████| 400/400 [00:02<00:00, 147.94it/s]\n",
      "100%|██████████| 300/300 [00:02<00:00, 130.59it/s]\n",
      "100%|██████████| 400/400 [00:01<00:00, 237.38it/s]\n",
      "100%|██████████| 300/300 [00:02<00:00, 121.95it/s]\n",
      "100%|██████████| 300/300 [00:01<00:00, 191.80it/s]\n",
      "100%|██████████| 300/300 [00:01<00:00, 212.13it/s]\n",
      "100%|██████████| 400/400 [00:01<00:00, 237.15it/s]\n",
      "100%|██████████| 400/400 [00:01<00:00, 225.14it/s]\n"
     ]
    }
   ],
   "source": [
    "validation =[]\n",
    "x=0\n",
    "\n",
    "for category in categories:\n",
    "    folder=os.path.join(validationPath,category)\n",
    "    # print(folder)\n",
    "    x2=0 \n",
    "    for file in tqdm(os.listdir(folder)):\n",
    "        # print(file)\n",
    "        try:\n",
    "            img=cv2.imread(os.path.join(folder,file))\n",
    "            img=cv2.cvtColor(img,cv2.COLOR_BGR2RGB)\n",
    "            img=cv2.resize(img,IMAGE_SIZE)# size image for CNN input\n",
    "            classNum=categories.index(category) #detrmine class\n",
    "            validation.append([img,classNum])\n",
    "            # plt.imshow(img)\n",
    "            # plt.show()\n",
    "        except Exception as e:\n",
    "            pass\n",
    "        \n",
    "        if x2>imges_num:\n",
    "            break\n",
    "        x2+=1\n",
    "    \n",
    "    if x>=class_num-1:    \n",
    "        break\n",
    "    x+=1\n",
    "    # print(x)"
   ]
  },
  {
   "cell_type": "code",
   "execution_count": 15,
   "metadata": {},
   "outputs": [
    {
     "name": "stdout",
     "output_type": "stream",
     "text": [
      "8\n",
      "0\n",
      "8\n",
      "8\n",
      "2\n",
      "1\n",
      "7\n",
      "4\n",
      "4\n",
      "8\n"
     ]
    }
   ],
   "source": [
    "random.shuffle(validation)\n",
    "for trainSample in validation[:10]:\n",
    "    print(trainSample[1])\n",
    "# trainSample"
   ]
  },
  {
   "cell_type": "code",
   "execution_count": 16,
   "metadata": {},
   "outputs": [],
   "source": [
    "x_validation_data=[]\n",
    "y_validation_data=[]\n",
    "for feature,label in validation:\n",
    "    x_validation_data.append(feature)\n",
    "    y_validation_data.append(label)\n",
    "\n",
    "# x_validation_data"
   ]
  },
  {
   "cell_type": "code",
   "execution_count": 17,
   "metadata": {},
   "outputs": [],
   "source": [
    "x_validation_data=np.array(x_validation_data)\n",
    "y_validation_data=np.array(y_validation_data)"
   ]
  },
  {
   "cell_type": "code",
   "execution_count": 18,
   "metadata": {},
   "outputs": [
    {
     "name": "stdout",
     "output_type": "stream",
     "text": [
      "(3500, 220, 220, 3)\n",
      "(3500,)\n"
     ]
    }
   ],
   "source": [
    "x_validation_data=x_validation_data.reshape(-1,IMAGE_HEIGHT,IMAGE_WIDTH,IMAGE_CHANNELS)\n",
    "# print(x_train_data[0])\n",
    "print(x_validation_data.shape)\n",
    "# print(y_train_data[:10])\n",
    "print(y_validation_data.shape)"
   ]
  },
  {
   "attachments": {},
   "cell_type": "markdown",
   "metadata": {},
   "source": [
    "Test Data "
   ]
  },
  {
   "cell_type": "code",
   "execution_count": 19,
   "metadata": {},
   "outputs": [
    {
     "data": {
      "text/plain": [
       "['Baked Potato',\n",
       " 'Burger',\n",
       " 'Crispy Chicken',\n",
       " 'Donut',\n",
       " 'Fries',\n",
       " 'Hot Dog',\n",
       " 'Pizza',\n",
       " 'Sandwich',\n",
       " 'Taco',\n",
       " 'Taquito']"
      ]
     },
     "execution_count": 19,
     "metadata": {},
     "output_type": "execute_result"
    }
   ],
   "source": [
    "testPath=\"Fast Food Classification V2\\Test\"\n",
    "categories=os.listdir(trainingPath)\n",
    "# print(categories)\n",
    "categories"
   ]
  },
  {
   "cell_type": "code",
   "execution_count": 20,
   "metadata": {},
   "outputs": [
    {
     "name": "stderr",
     "output_type": "stream",
     "text": [
      "100%|██████████| 100/100 [00:00<00:00, 190.35it/s]\n",
      "100%|██████████| 200/200 [00:01<00:00, 187.87it/s]\n",
      "100%|██████████| 100/100 [00:00<00:00, 191.46it/s]\n",
      "100%|██████████| 200/200 [00:04<00:00, 45.13it/s] \n",
      "100%|██████████| 100/100 [00:00<00:00, 222.57it/s]\n",
      "100%|██████████| 200/200 [00:00<00:00, 249.05it/s]\n",
      "100%|██████████| 200/200 [00:00<00:00, 217.85it/s]\n",
      "100%|██████████| 200/200 [00:00<00:00, 236.81it/s]\n",
      "100%|██████████| 100/100 [00:00<00:00, 156.61it/s]\n",
      "100%|██████████| 100/100 [00:00<00:00, 283.25it/s]\n"
     ]
    }
   ],
   "source": [
    "test =[]\n",
    "x=0\n",
    "\n",
    "for category in categories:\n",
    "    folder=os.path.join(testPath,category)\n",
    "    # print(folder)\n",
    "    x2=0 \n",
    "    for file in tqdm(os.listdir(folder)):\n",
    "        # print(file)\n",
    "        try:\n",
    "            img=cv2.imread(os.path.join(folder,file))\n",
    "            img=cv2.cvtColor(img,cv2.COLOR_BGR2RGB)\n",
    "            img=cv2.resize(img,IMAGE_SIZE)# size image for CNN input\n",
    "            classNum=categories.index(category) #detrmine class\n",
    "            test.append([img,classNum])\n",
    "            # plt.imshow(img)\n",
    "            # plt.show()\n",
    "        except Exception as e:\n",
    "            pass\n",
    "        \n",
    "        if x2>imges_num:\n",
    "            break\n",
    "        x2+=1\n",
    "    \n",
    "    if x>=class_num-1:    \n",
    "        break\n",
    "    x+=1\n",
    "    # print(x)"
   ]
  },
  {
   "cell_type": "code",
   "execution_count": 21,
   "metadata": {},
   "outputs": [
    {
     "name": "stdout",
     "output_type": "stream",
     "text": [
      "9\n",
      "3\n",
      "8\n",
      "7\n",
      "7\n",
      "3\n",
      "0\n",
      "1\n",
      "1\n",
      "8\n"
     ]
    }
   ],
   "source": [
    "random.shuffle(test)\n",
    "for trainSample in test[:10]:\n",
    "    print(trainSample[1])\n",
    "# trainSample"
   ]
  },
  {
   "cell_type": "code",
   "execution_count": 22,
   "metadata": {},
   "outputs": [],
   "source": [
    "x_test=[]\n",
    "y_test=[]\n",
    "for feature,label in test:\n",
    "    x_test.append(feature)\n",
    "    y_test.append(label)\n",
    "\n",
    "# x_validation_data"
   ]
  },
  {
   "cell_type": "code",
   "execution_count": 23,
   "metadata": {},
   "outputs": [],
   "source": [
    "x_test=np.array(x_test)\n",
    "y_test=np.array(y_test)"
   ]
  },
  {
   "cell_type": "code",
   "execution_count": 24,
   "metadata": {},
   "outputs": [
    {
     "name": "stdout",
     "output_type": "stream",
     "text": [
      "(1500, 220, 220, 3)\n",
      "(1500,)\n"
     ]
    }
   ],
   "source": [
    "x_test=x_test.reshape(-1,IMAGE_HEIGHT,IMAGE_WIDTH,IMAGE_CHANNELS)\n",
    "# print(x_train_data[0])\n",
    "print(x_test.shape)\n",
    "# print(y_train_data[:10])\n",
    "print(y_test.shape)"
   ]
  },
  {
   "attachments": {},
   "cell_type": "markdown",
   "metadata": {},
   "source": [
    "Split Data"
   ]
  },
  {
   "cell_type": "code",
   "execution_count": 25,
   "metadata": {},
   "outputs": [
    {
     "name": "stdout",
     "output_type": "stream",
     "text": [
      "(15000, 220, 220, 3)\n",
      "(15000,)\n",
      "(1500, 220, 220, 3)\n",
      "(1500,)\n"
     ]
    }
   ],
   "source": [
    "x_train=x_train_data\n",
    "y_train=y_train_data\n",
    "# x_train,x_test,y_train,y_test=train_test_split(x_train_data,y_train_data,test_size=0.1,random_state=36)\n",
    "# print(x_train.shape)\n",
    "# print(y_train.shape)\n",
    "\n",
    "# print(x_test.shape)\n",
    "# print(y_test.shape)\n",
    "# y_train\n",
    "print(x_train.shape)\n",
    "print(y_train.shape)\n",
    "\n",
    "print(x_test.shape)\n",
    "print(y_test.shape)"
   ]
  },
  {
   "cell_type": "code",
   "execution_count": 26,
   "metadata": {},
   "outputs": [
    {
     "name": "stdout",
     "output_type": "stream",
     "text": [
      "(15000,)\n",
      "(15000, 10)\n",
      "(3500,)\n",
      "(3500, 10)\n",
      "(1500,)\n",
      "(1500, 10)\n"
     ]
    }
   ],
   "source": [
    "print(y_train.shape)\n",
    "y_train = to_categorical(y_train)\n",
    "print(y_train.shape)\n",
    "\n",
    "print(y_validation_data.shape)\n",
    "y_validation_data = to_categorical(y_validation_data)\n",
    "print(y_validation_data.shape)\n",
    "\n",
    "print(y_test.shape)\n",
    "y_test = to_categorical(y_test)\n",
    "print(y_test.shape)"
   ]
  },
  {
   "cell_type": "code",
   "execution_count": 27,
   "metadata": {},
   "outputs": [
    {
     "name": "stdout",
     "output_type": "stream",
     "text": [
      "(15000, 220, 220, 3)\n",
      "(15000, 10)\n"
     ]
    },
    {
     "data": {
      "text/plain": [
       "array([0., 0., 0., 0., 0., 1., 0., 0., 0., 0.], dtype=float32)"
      ]
     },
     "execution_count": 27,
     "metadata": {},
     "output_type": "execute_result"
    }
   ],
   "source": [
    "print(x_train.shape)\n",
    "print(y_train.shape)\n",
    "y_train[0]"
   ]
  },
  {
   "attachments": {},
   "cell_type": "markdown",
   "metadata": {},
   "source": [
    "Normalization\n"
   ]
  },
  {
   "cell_type": "code",
   "execution_count": 28,
   "metadata": {},
   "outputs": [
    {
     "ename": "MemoryError",
     "evalue": "Unable to allocate 16.2 GiB for an array with shape (15000, 220, 220, 3) and data type float64",
     "output_type": "error",
     "traceback": [
      "\u001b[1;31m---------------------------------------------------------------------------\u001b[0m",
      "\u001b[1;31mMemoryError\u001b[0m                               Traceback (most recent call last)",
      "Cell \u001b[1;32mIn[28], line 1\u001b[0m\n\u001b[1;32m----> 1\u001b[0m x_train_data\u001b[39m=\u001b[39mx_train\u001b[39m.\u001b[39;49mastype(\u001b[39m'\u001b[39;49m\u001b[39mfloat\u001b[39;49m\u001b[39m'\u001b[39;49m)\n\u001b[0;32m      2\u001b[0m x_train_data\u001b[39m=\u001b[39mx_train\u001b[39m/\u001b[39m\u001b[39m255.0\u001b[39m\n\u001b[0;32m      4\u001b[0m x_test\u001b[39m=\u001b[39mx_test\u001b[39m.\u001b[39mastype(\u001b[39m'\u001b[39m\u001b[39mfloat\u001b[39m\u001b[39m'\u001b[39m)\n",
      "\u001b[1;31mMemoryError\u001b[0m: Unable to allocate 16.2 GiB for an array with shape (15000, 220, 220, 3) and data type float64"
     ]
    }
   ],
   "source": [
    "x_train_data=x_train.astype('float')\n",
    "x_train_data=x_train/255.0\n",
    "\n",
    "x_test=x_test.astype('float')\n",
    "x_test=x_test/255.0"
   ]
  },
  {
   "cell_type": "code",
   "execution_count": null,
   "metadata": {},
   "outputs": [],
   "source": [
    "model=keras.models.Sequential()\n",
    "\n",
    "model.add(Conv2D(16,(3,3),input_shape=(IMAGE_WIDTH,IMAGE_HEIGHT,IMAGE_CHANNELS), activation='relu'))\n",
    "model.add(BatchNormalization())\n",
    "model.add(MaxPooling2D(pool_size=(2,2)))\n",
    "model.add(Dropout(0.5))\n",
    "\n",
    "# model.add(Conv2D(16,(3,3), activation='relu'))\n",
    "# model.add(BatchNormalization())\n",
    "# model.add(MaxPooling2D(pool_size=(2,2)))\n",
    "# model.add(Dropout(0.5))\n",
    "\n",
    "# model.add(Conv2D(16,(3,3), activation='relu'))\n",
    "# model.add(BatchNormalization())\n",
    "# model.add(MaxPooling2D(pool_size=(2,2)))\n",
    "# model.add(Dropout(0.5))\n",
    "\n",
    "\n",
    "\n",
    "model.add(Flatten())\n",
    "\n",
    "model.add(Dense(512, activation='relu'))\n",
    "model.add(BatchNormalization())\n",
    "model.add(Dropout(0.5))\n",
    "model.add(Dense(2,activation='softmax'))"
   ]
  },
  {
   "cell_type": "code",
   "execution_count": 29,
   "metadata": {},
   "outputs": [
    {
     "ename": "NameError",
     "evalue": "name 'model' is not defined",
     "output_type": "error",
     "traceback": [
      "\u001b[1;31m---------------------------------------------------------------------------\u001b[0m",
      "\u001b[1;31mNameError\u001b[0m                                 Traceback (most recent call last)",
      "Cell \u001b[1;32mIn[29], line 1\u001b[0m\n\u001b[1;32m----> 1\u001b[0m model\u001b[39m.\u001b[39mcompile(optimizer\u001b[39m=\u001b[39m\u001b[39m'\u001b[39m\u001b[39madam\u001b[39m\u001b[39m'\u001b[39m,loss\u001b[39m=\u001b[39m\u001b[39m'\u001b[39m\u001b[39mcategorical_crossentropy\u001b[39m\u001b[39m'\u001b[39m,metrics\u001b[39m=\u001b[39m[\u001b[39m'\u001b[39m\u001b[39maccuracy\u001b[39m\u001b[39m'\u001b[39m])\n",
      "\u001b[1;31mNameError\u001b[0m: name 'model' is not defined"
     ]
    }
   ],
   "source": [
    "model.compile(optimizer='adam',loss='categorical_crossentropy',metrics=['accuracy'])"
   ]
  },
  {
   "cell_type": "code",
   "execution_count": 30,
   "metadata": {},
   "outputs": [
    {
     "ename": "NameError",
     "evalue": "name 'model' is not defined",
     "output_type": "error",
     "traceback": [
      "\u001b[1;31m---------------------------------------------------------------------------\u001b[0m",
      "\u001b[1;31mNameError\u001b[0m                                 Traceback (most recent call last)",
      "Cell \u001b[1;32mIn[30], line 1\u001b[0m\n\u001b[1;32m----> 1\u001b[0m model\u001b[39m.\u001b[39mfit(x_train,y_train,epochs\u001b[39m=\u001b[39m\u001b[39m2\u001b[39m)\n",
      "\u001b[1;31mNameError\u001b[0m: name 'model' is not defined"
     ]
    }
   ],
   "source": [
    "model.fit(x_train,y_train,epochs=5)"
   ]
  },
  {
   "cell_type": "code",
   "execution_count": 31,
   "metadata": {},
   "outputs": [
    {
     "ename": "NameError",
     "evalue": "name 'model' is not defined",
     "output_type": "error",
     "traceback": [
      "\u001b[1;31m---------------------------------------------------------------------------\u001b[0m",
      "\u001b[1;31mNameError\u001b[0m                                 Traceback (most recent call last)",
      "Cell \u001b[1;32mIn[31], line 1\u001b[0m\n\u001b[1;32m----> 1\u001b[0m val_loss, val_acc \u001b[39m=\u001b[39m model\u001b[39m.\u001b[39mevaluate(x_test, y_test)\n\u001b[0;32m      2\u001b[0m \u001b[39mprint\u001b[39m(val_loss)\n\u001b[0;32m      3\u001b[0m \u001b[39mprint\u001b[39m(val_acc)\n",
      "\u001b[1;31mNameError\u001b[0m: name 'model' is not defined"
     ]
    }
   ],
   "source": [
    "val_loss, val_acc = model.evaluate(x_test, y_test)\n",
    "print(val_loss)\n",
    "print(val_acc)"
   ]
  },
  {
   "cell_type": "code",
   "execution_count": 32,
   "metadata": {},
   "outputs": [],
   "source": [
    "# model.save('xray_model.h5')"
   ]
  },
  {
   "cell_type": "code",
   "execution_count": 33,
   "metadata": {},
   "outputs": [],
   "source": [
    "# model = load_model('mymodel.h5')"
   ]
  },
  {
   "cell_type": "code",
   "execution_count": 34,
   "metadata": {},
   "outputs": [],
   "source": [
    "def predictImg():\n",
    "    for i in range(5):\n",
    "        testimgnum=i\n",
    "        predicted=model.predict(np.array([x_validation_data[testimgnum]]))\n",
    "        print(predicted.shape)\n",
    "        # predicted \n",
    "        predictedClass=np.argmax(predicted[0])\n",
    "        # print( f'predicted Class {predictedClass}')\n",
    "        # print( f'actual class {y_test[testimgnum] }')\n",
    "        # x_test.shape\n",
    "        actual=np.argmax(y_validation_data[testimgnum])\n",
    "        plt.imshow(x_validation_data[testimgnum],cmap='gray')\n",
    "        plt.title(f'predicted Class is [ {classnames[predictedClass]} ] Actual class is [ {classnames[actual]} ] ')\n",
    "        plt.xticks([])\n",
    "        plt.yticks([])\n",
    "        plt.show()"
   ]
  },
  {
   "cell_type": "code",
   "execution_count": 35,
   "metadata": {},
   "outputs": [
    {
     "ename": "NameError",
     "evalue": "name 'model' is not defined",
     "output_type": "error",
     "traceback": [
      "\u001b[1;31m---------------------------------------------------------------------------\u001b[0m",
      "\u001b[1;31mNameError\u001b[0m                                 Traceback (most recent call last)",
      "Cell \u001b[1;32mIn[35], line 1\u001b[0m\n\u001b[1;32m----> 1\u001b[0m predictImg()\n",
      "Cell \u001b[1;32mIn[34], line 4\u001b[0m, in \u001b[0;36mpredictImg\u001b[1;34m()\u001b[0m\n\u001b[0;32m      2\u001b[0m \u001b[39mfor\u001b[39;00m i \u001b[39min\u001b[39;00m \u001b[39mrange\u001b[39m(\u001b[39m5\u001b[39m):\n\u001b[0;32m      3\u001b[0m     testimgnum\u001b[39m=\u001b[39mi\n\u001b[1;32m----> 4\u001b[0m     predicted\u001b[39m=\u001b[39mmodel\u001b[39m.\u001b[39mpredict(np\u001b[39m.\u001b[39marray([x_validation_data[testimgnum]]))\n\u001b[0;32m      5\u001b[0m     \u001b[39mprint\u001b[39m(predicted\u001b[39m.\u001b[39mshape)\n\u001b[0;32m      6\u001b[0m     \u001b[39m# predicted \u001b[39;00m\n",
      "\u001b[1;31mNameError\u001b[0m: name 'model' is not defined"
     ]
    }
   ],
   "source": [
    "predictImg()"
   ]
  },
  {
   "cell_type": "code",
   "execution_count": null,
   "metadata": {},
   "outputs": [],
   "source": []
  }
 ],
 "metadata": {
  "kernelspec": {
   "display_name": "Python 3",
   "language": "python",
   "name": "python3"
  },
  "language_info": {
   "codemirror_mode": {
    "name": "ipython",
    "version": 3
   },
   "file_extension": ".py",
   "mimetype": "text/x-python",
   "name": "python",
   "nbconvert_exporter": "python",
   "pygments_lexer": "ipython3",
   "version": "3.10.6"
  },
  "orig_nbformat": 4
 },
 "nbformat": 4,
 "nbformat_minor": 2
}
